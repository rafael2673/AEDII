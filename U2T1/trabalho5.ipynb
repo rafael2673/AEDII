{
  "nbformat": 4,
  "nbformat_minor": 0,
  "metadata": {
    "colab": {
      "provenance": [],
      "authorship_tag": "ABX9TyNkje6dMI+KQMsUO10/SNWZ",
      "include_colab_link": true
    },
    "kernelspec": {
      "name": "python3",
      "display_name": "Python 3"
    },
    "language_info": {
      "name": "python"
    }
  },
  "cells": [
    {
      "cell_type": "markdown",
      "metadata": {
        "id": "view-in-github",
        "colab_type": "text"
      },
      "source": [
        "<a href=\"https://colab.research.google.com/github/rafael2673/AEDII/blob/main/U2T1/trabalho5.ipynb\" target=\"_parent\"><img src=\"https://colab.research.google.com/assets/colab-badge.svg\" alt=\"Open In Colab\"/></a>"
      ]
    },
    {
      "cell_type": "code",
      "execution_count": 6,
      "metadata": {
        "colab": {
          "base_uri": "https://localhost:8080/"
        },
        "id": "aUgch5GuVjEv",
        "outputId": "4110f911-257a-458d-dad5-862bf479e21e"
      },
      "outputs": [
        {
          "output_type": "stream",
          "name": "stdout",
          "text": [
            "Resultados salvos no arquivo kcore_kshell.csv\n"
          ]
        }
      ],
      "source": [
        "import networkx as nx\n",
        "import pandas as pd\n",
        "\n",
        "# 1. Carregar o grafo exportado do Gephi (formato GraphML ou CSV)\n",
        "file_path = \"/content/sample_data/co_autoria.graphml\"\n",
        "G = nx.read_graphml(file_path)\n",
        "\n",
        "# 2. Remover self-loops (arestas que conectam um nó a si mesmo)\n",
        "G.remove_edges_from(nx.selfloop_edges(G))\n",
        "\n",
        "# 3. Calcular o K-core (grau mínimo para cada nó no subgrafo)\n",
        "core_numbers = nx.core_number(G)\n",
        "\n",
        "# 4. Calcular o K-shell (camadas formadas pela remoção iterativa)\n",
        "# Os nós do K-shell correspondem aos níveis de remoção durante a decomposição\n",
        "k_shell = {}\n",
        "for node, core in core_numbers.items():\n",
        "    k_shell[node] = core  # K-shell é derivado diretamente durante o processo de K-core\n",
        "\n",
        "# 5. Salvar os resultados em um DataFrame\n",
        "data = {\n",
        "    \"Id\": list(core_numbers.keys()),\n",
        "    \"K-Core\": list(core_numbers.values()),  # Grau mínimo no subgrafo\n",
        "    \"K-Shell\": list(k_shell.values()),      # Camada de remoção\n",
        "}\n",
        "df = pd.DataFrame(data)\n",
        "\n",
        "\n",
        "#set([v for k,v in nx.core_number(G).items()])\n",
        "\n",
        "# 6. Exportar os resultados para CSV\n",
        "df.to_csv(\"kcore_kshell.csv\", index=False)\n",
        "\n",
        "print(\"Resultados salvos no arquivo kcore_kshell.csv\")\n"
      ]
    }
  ]
}